{
 "cells": [
  {
   "cell_type": "code",
   "execution_count": 0,
   "metadata": {
    "colab": {},
    "colab_type": "code",
    "collapsed": true,
    "id": "fwKwbkuXZtoO"
   },
   "outputs": [],
   "source": [
    "# Write your code in jupyter notebook and upload it to github and share the link for submission"
   ]
  },
  {
   "cell_type": "markdown",
   "metadata": {
    "colab_type": "text",
    "id": "vre5sNOcZ42y"
   },
   "source": [
    "**Question 1.** \n",
    "\n",
    "You have to create a function that receives a list of numbers like [23,14,13,56,78,98,12] and returns it's Interquartile range(IQR)\n",
    "\n",
    "Note: You have to code the logic from scratch"
   ]
  },
  {
   "cell_type": "code",
   "execution_count": 1,
   "metadata": {
    "colab": {
     "base_uri": "https://localhost:8080/",
     "height": 34
    },
    "colab_type": "code",
    "id": "7juLekZtEF8x",
    "outputId": "b7336181-e72c-436d-fa00-c228b3c5d88b"
   },
   "outputs": [
    {
     "data": {
      "text/plain": [
       "65.0"
      ]
     },
     "execution_count": 1,
     "metadata": {},
     "output_type": "execute_result"
    }
   ],
   "source": [
    "def iqr(a):\n",
    "  import math\n",
    "  a.sort()\n",
    "  l=len(a)\n",
    "  q1=(l+1)/4\n",
    "  q3=(l+1)*3/4\n",
    "  q1=(a[math.floor(q1)-1]+a[math.ceil(q1)-1])/2\n",
    "  q3=(a[math.floor(q3)-1]+a[math.ceil(q3)-1])/2\n",
    "  return (q3-q1)\n",
    "iqr([23,14,13,56,78,98,12])"
   ]
  },
  {
   "cell_type": "markdown",
   "metadata": {
    "colab_type": "text",
    "id": "zhGgTofubucf"
   },
   "source": [
    "**Question 2:**\n",
    "\n",
    " Plot a histogram for total team scores for all IPL games.\n",
    "\n",
    "Note: Per match 2 teams will play hence total number scores would be = no. of matches * 2"
   ]
  },
  {
   "cell_type": "code",
   "execution_count": 4,
   "metadata": {
    "colab": {
     "base_uri": "https://localhost:8080/",
     "height": 265
    },
    "colab_type": "code",
    "id": "TmyJPiiBCzoM",
    "outputId": "bd0f6490-391e-4900-ed95-21005e4cb62b"
   },
   "outputs": [
    {
     "data": {
      "image/png": "[encoded data removed]",
      "text/plain": [
       "<Figure size 432x288 with 1 Axes>"
      ]
     },
     "metadata": {
      "needs_background": "light"
     },
     "output_type": "display_data"
    }
   ],
   "source": [
    "import pandas as pd\n",
    "import matplotlib.pyplot as plt\n",
    "import seaborn as sns\n",
    "deliveries = pd.read_csv(\"deliveries.csv\")\n",
    "data = deliveries.groupby([\"match_id\", \"inning\"])[\"total_runs\"].sum()\n",
    "plt.hist(data, bins=range(min(data), max(data) + 1, 4))\n",
    "plt.show()"
   ]
  },
  {
   "cell_type": "markdown",
   "metadata": {
    "colab_type": "text",
    "id": "LraNGEw4cCSI"
   },
   "source": [
    "**Question 3.**\n",
    "\n",
    " Find the skewness of bowler economy data where the bowler has bowled a minimum of 300 balls.\n",
    "\n",
    "Note : if you don't know about economy read this https://en.wikipedia.org/wiki/Economy_rate_(cricket)"
   ]
  },
  {
   "cell_type": "code",
   "execution_count": 5,
   "metadata": {
    "colab": {
     "base_uri": "https://localhost:8080/",
     "height": 282
    },
    "colab_type": "code",
    "id": "qbj6OXdTEOqB",
    "outputId": "8e3def47-25d0-4430-e230-d40c9a621c8a"
   },
   "outputs": [
    {
     "data": {
      "text/plain": [
       "<matplotlib.axes._subplots.AxesSubplot at 0x1fbbe7134c8>"
      ]
     },
     "execution_count": 5,
     "metadata": {},
     "output_type": "execute_result"
    },
    {
     "data": {
      "image/png": "[encoded data removed]",
      "text/plain": [
       "<Figure size 432x288 with 1 Axes>"
      ]
     },
     "metadata": {
      "needs_background": "light"
     },
     "output_type": "display_data"
    }
   ],
   "source": [
    "# Finding where bowler bowled more than 300 balls.\n",
    "bowler = deliveries.groupby(\"bowler\")\n",
    "balls = bowler[\"ball\"].count()\n",
    "mask = balls > 300\n",
    "deliveries = deliveries[deliveries[\"bowler\"].isin(balls[mask].index.tolist())]\n",
    "\n",
    "bowler = deliveries.groupby(\"bowler\")\n",
    "runs = bowler[[\"wide_runs\", \"noball_runs\", \"batsman_runs\"]].sum()\n",
    "runs = runs[\"wide_runs\"] + runs[\"noball_runs\"] + runs[\"batsman_runs\"]\n",
    "overs = balls/6\n",
    "economy = runs/overs\n",
    "economy.skew()\n",
    "sns.kdeplot(economy)"
   ]
  },
  {
   "cell_type": "markdown",
   "metadata": {
    "colab_type": "text",
    "id": "JaVlcVElE7bn"
   },
   "source": []
  },
  {
   "cell_type": "markdown",
   "metadata": {
    "colab_type": "text",
    "id": "rPh3aUBSdvjW"
   },
   "source": [
    "**Question 4:**\n",
    "\n",
    "Give three examples of negatively skewed data and 3 examples of positively skewed data"
   ]
  },
  {
   "cell_type": "markdown",
   "metadata": {
    "colab_type": "text",
    "id": "gq5qORjIE5Fb"
   },
   "source": [
    "Negatively skewed data:\n",
    "1.  division of wealth in india wrt pay scale\n",
    "2.  occurance of parkinsons disease wrt age\n",
    "3.  age of fossils and hydrocarbon content in them\n",
    "\n",
    "Positivly skewed data:\n",
    "\n",
    "1.  rate of formation of neurons in the brain wrt age\n",
    "2.  elevation of landmass and atmospheric temperature\n",
    "3.  volume of polar icecaps over the years\n",
    "\n"
   ]
  },
  {
   "cell_type": "code",
   "execution_count": null,
   "metadata": {},
   "outputs": [],
   "source": []
  }
 ],
 "metadata": {
  "colab": {
   "name": "Statistics-assignment-1.ipynb",
   "provenance": []
  },
  "kernelspec": {
   "display_name": "Python 3",
   "language": "python",
   "name": "python3"
  },
  "language_info": {
   "codemirror_mode": {
    "name": "ipython",
    "version": 3
   },
   "file_extension": ".py",
   "mimetype": "text/x-python",
   "name": "python",
   "nbconvert_exporter": "python",
   "pygments_lexer": "ipython3",
   "version": "3.7.4"
  }
 },
 "nbformat": 4,
 "nbformat_minor": 1
}
